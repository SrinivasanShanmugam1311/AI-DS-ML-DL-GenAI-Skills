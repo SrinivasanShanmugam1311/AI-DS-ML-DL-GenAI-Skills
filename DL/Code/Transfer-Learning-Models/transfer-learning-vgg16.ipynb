{
 "cells": [
  {
   "cell_type": "markdown",
   "id": "09efc98d",
   "metadata": {
    "papermill": {
     "duration": 0.005867,
     "end_time": "2025-09-26T11:15:12.617423",
     "exception": false,
     "start_time": "2025-09-26T11:15:12.611556",
     "status": "completed"
    },
    "tags": []
   },
   "source": [
    "# Transfer Learning\n",
    "\n",
    "Transfer learning is a machine learning technique where a model trained on one task  is re-purposed on a second related task.\n",
    "\n",
    "**Pre-trained Model Approach**\n",
    "\n",
    "1. Select Source Model. A pre-trained source model is chosen from available models. Many research institutions release models on large and challenging datasets that may be included in the pool of candidate models from which to choose from.\n",
    "\n",
    "2. Reuse Model. The model pre-trained model can then be used as the starting point for a model on the second task of interest. This may involve using all or parts of the model, depending on the modeling technique used.\n",
    "\n",
    "3. Tune Model. Optionally, the model may need to be adapted or refined on the input-output pair data available for the task of interest.\n"
   ]
  },
  {
   "cell_type": "markdown",
   "id": "d4bfbf31",
   "metadata": {
    "papermill": {
     "duration": 0.004463,
     "end_time": "2025-09-26T11:15:12.626816",
     "exception": false,
     "start_time": "2025-09-26T11:15:12.622353",
     "status": "completed"
    },
    "tags": []
   },
   "source": [
    "\n",
    "# Credits\n",
    "\n",
    "https://machinelearningmastery.com/how-to-use-transfer-learning-when-developing-convolutional-neural-network-models/\n",
    "    \n",
    "https://www.tensorflow.org/tutorials/images/classification\n",
    "    \n",
    "https://codebasics.io/courses/deep-learning-with-tensorflow-keras-and-python\n",
    "    \n",
    "https://towardsdatascience.com/transfer-learning-with-vgg16-and-keras-50ea161580b4"
   ]
  },
  {
   "cell_type": "markdown",
   "id": "5608af9c",
   "metadata": {
    "papermill": {
     "duration": 0.004542,
     "end_time": "2025-09-26T11:15:12.636624",
     "exception": false,
     "start_time": "2025-09-26T11:15:12.632082",
     "status": "completed"
    },
    "tags": []
   },
   "source": [
    "# VGG-16\n",
    "Objective: The ImageNet dataset contains images of fixed size of 224*224 and have RGB channels. So, we have a tensor of (224, 224, 3) as our input. This model process the input image and outputs the a vector of 1000 values.\n",
    "\n",
    "**VGG Architecture:**\n",
    "The input to the network is an image of dimensions (224, 224, 3). The first two layers have 64 channels of a 3X3 filter size and the same padding. Then after a max pool layer of stride (2, 2), two layers have convolution layers of 128 filter size and filter size (3, 3). This is followed by a max-pooling layer of stride (2, 2) which is the same as the previous layer. Then there are 2 convolution layers of filter size (3, 3) and 256 filters. After that, there are 2 sets of 3 convolution layers and a max pool layer. Each has 512 filters of (3, 3) size with the same padding. \n",
    "\n",
    "This image is then passed to the stack of two convolution layers. In these convolution and max-pooling layers, the filters we use are of the size 3X3 instead of 11X11 in AlexNet and 7X7 in ZF-Net. In some of the layers, it also uses 1X1 pixel which is used to manipulate the number of input channels. There is a padding of 1-pixel (same padding) done after each convolution layer to prevent the spatial feature of the image."
   ]
  },
  {
   "cell_type": "markdown",
   "id": "2a0b076a",
   "metadata": {
    "papermill": {
     "duration": 0.004544,
     "end_time": "2025-09-26T11:15:12.645900",
     "exception": false,
     "start_time": "2025-09-26T11:15:12.641356",
     "status": "completed"
    },
    "tags": []
   },
   "source": [
    "\n",
    "# 1.Import Python modules"
   ]
  },
  {
   "cell_type": "code",
   "execution_count": 1,
   "id": "af9c855a",
   "metadata": {
    "execution": {
     "iopub.execute_input": "2025-09-26T11:15:12.657094Z",
     "iopub.status.busy": "2025-09-26T11:15:12.656656Z",
     "iopub.status.idle": "2025-09-26T11:15:18.519618Z",
     "shell.execute_reply": "2025-09-26T11:15:18.518868Z"
    },
    "papermill": {
     "duration": 5.871389,
     "end_time": "2025-09-26T11:15:18.522092",
     "exception": false,
     "start_time": "2025-09-26T11:15:12.650703",
     "status": "completed"
    },
    "tags": []
   },
   "outputs": [],
   "source": [
    "import numpy as np\n",
    "import cv2\n",
    "import os\n",
    "\n",
    "import PIL.Image as Image\n",
    "import matplotlib.pylab as plt\n",
    "\n",
    "import tensorflow as tf\n",
    "import tensorflow_hub as hub\n",
    "from tensorflow import keras\n",
    "from tensorflow.keras import layers\n",
    "from tensorflow.keras.models import Sequential\n",
    "from tensorflow.keras.applications.vgg16 import VGG16\n",
    "from tensorflow.keras.applications.vgg16 import preprocess_input\n",
    "from keras.models import Model\n",
    "from keras.layers import Dense\n",
    "from keras.layers import Flatten"
   ]
  },
  {
   "cell_type": "markdown",
   "id": "180947e7",
   "metadata": {
    "papermill": {
     "duration": 0.004652,
     "end_time": "2025-09-26T11:15:18.531643",
     "exception": false,
     "start_time": "2025-09-26T11:15:18.526991",
     "status": "completed"
    },
    "tags": []
   },
   "source": [
    "# 2. Load trained model"
   ]
  },
  {
   "cell_type": "code",
   "execution_count": 2,
   "id": "defa61a6",
   "metadata": {
    "execution": {
     "iopub.execute_input": "2025-09-26T11:15:18.542278Z",
     "iopub.status.busy": "2025-09-26T11:15:18.541754Z",
     "iopub.status.idle": "2025-09-26T11:15:41.228338Z",
     "shell.execute_reply": "2025-09-26T11:15:41.227370Z"
    },
    "papermill": {
     "duration": 22.694496,
     "end_time": "2025-09-26T11:15:41.230631",
     "exception": false,
     "start_time": "2025-09-26T11:15:18.536135",
     "status": "completed"
    },
    "tags": []
   },
   "outputs": [
    {
     "name": "stdout",
     "output_type": "stream",
     "text": [
      "Downloading data from https://storage.googleapis.com/tensorflow/keras-applications/vgg16/vgg16_weights_tf_dim_ordering_tf_kernels.h5\n",
      "553467904/553467096 [==============================] - 18s 0us/step\n",
      "553476096/553467096 [==============================] - 18s 0us/step\n",
      "Model: \"vgg16\"\n",
      "_________________________________________________________________\n",
      "Layer (type)                 Output Shape              Param #   \n",
      "=================================================================\n",
      "input_1 (InputLayer)         [(None, 224, 224, 3)]     0         \n",
      "_________________________________________________________________\n",
      "block1_conv1 (Conv2D)        (None, 224, 224, 64)      1792      \n",
      "_________________________________________________________________\n",
      "block1_conv2 (Conv2D)        (None, 224, 224, 64)      36928     \n",
      "_________________________________________________________________\n",
      "block1_pool (MaxPooling2D)   (None, 112, 112, 64)      0         \n",
      "_________________________________________________________________\n",
      "block2_conv1 (Conv2D)        (None, 112, 112, 128)     73856     \n",
      "_________________________________________________________________\n",
      "block2_conv2 (Conv2D)        (None, 112, 112, 128)     147584    \n",
      "_________________________________________________________________\n",
      "block2_pool (MaxPooling2D)   (None, 56, 56, 128)       0         \n",
      "_________________________________________________________________\n",
      "block3_conv1 (Conv2D)        (None, 56, 56, 256)       295168    \n",
      "_________________________________________________________________\n",
      "block3_conv2 (Conv2D)        (None, 56, 56, 256)       590080    \n",
      "_________________________________________________________________\n",
      "block3_conv3 (Conv2D)        (None, 56, 56, 256)       590080    \n",
      "_________________________________________________________________\n",
      "block3_pool (MaxPooling2D)   (None, 28, 28, 256)       0         \n",
      "_________________________________________________________________\n",
      "block4_conv1 (Conv2D)        (None, 28, 28, 512)       1180160   \n",
      "_________________________________________________________________\n",
      "block4_conv2 (Conv2D)        (None, 28, 28, 512)       2359808   \n",
      "_________________________________________________________________\n",
      "block4_conv3 (Conv2D)        (None, 28, 28, 512)       2359808   \n",
      "_________________________________________________________________\n",
      "block4_pool (MaxPooling2D)   (None, 14, 14, 512)       0         \n",
      "_________________________________________________________________\n",
      "block5_conv1 (Conv2D)        (None, 14, 14, 512)       2359808   \n",
      "_________________________________________________________________\n",
      "block5_conv2 (Conv2D)        (None, 14, 14, 512)       2359808   \n",
      "_________________________________________________________________\n",
      "block5_conv3 (Conv2D)        (None, 14, 14, 512)       2359808   \n",
      "_________________________________________________________________\n",
      "block5_pool (MaxPooling2D)   (None, 7, 7, 512)         0         \n",
      "_________________________________________________________________\n",
      "flatten (Flatten)            (None, 25088)             0         \n",
      "_________________________________________________________________\n",
      "fc1 (Dense)                  (None, 4096)              102764544 \n",
      "_________________________________________________________________\n",
      "fc2 (Dense)                  (None, 4096)              16781312  \n",
      "_________________________________________________________________\n",
      "predictions (Dense)          (None, 1000)              4097000   \n",
      "=================================================================\n",
      "Total params: 138,357,544\n",
      "Trainable params: 138,357,544\n",
      "Non-trainable params: 0\n",
      "_________________________________________________________________\n"
     ]
    }
   ],
   "source": [
    "IMAGE_SHAPE = (224, 224)\n",
    "\n",
    "# load model\n",
    "model = VGG16()\n",
    "# summarize the model\n",
    "model.summary()"
   ]
  },
  {
   "cell_type": "code",
   "execution_count": 3,
   "id": "86932f8e",
   "metadata": {
    "execution": {
     "iopub.execute_input": "2025-09-26T11:15:41.263568Z",
     "iopub.status.busy": "2025-09-26T11:15:41.263039Z",
     "iopub.status.idle": "2025-09-26T11:15:44.331268Z",
     "shell.execute_reply": "2025-09-26T11:15:44.330088Z"
    },
    "papermill": {
     "duration": 3.086178,
     "end_time": "2025-09-26T11:15:44.333359",
     "exception": false,
     "start_time": "2025-09-26T11:15:41.247181",
     "status": "completed"
    },
    "tags": []
   },
   "outputs": [
    {
     "name": "stdout",
     "output_type": "stream",
     "text": [
      "Downloading data from https://storage.googleapis.com/tensorflow/keras-applications/vgg16/vgg16_weights_tf_dim_ordering_tf_kernels_notop.h5\n",
      "58892288/58889256 [==============================] - 3s 0us/step\n",
      "58900480/58889256 [==============================] - 3s 0us/step\n",
      "Model: \"vgg16\"\n",
      "_________________________________________________________________\n",
      "Layer (type)                 Output Shape              Param #   \n",
      "=================================================================\n",
      "input_2 (InputLayer)         [(None, 224, 224, 3)]     0         \n",
      "_________________________________________________________________\n",
      "block1_conv1 (Conv2D)        (None, 224, 224, 64)      1792      \n",
      "_________________________________________________________________\n",
      "block1_conv2 (Conv2D)        (None, 224, 224, 64)      36928     \n",
      "_________________________________________________________________\n",
      "block1_pool (MaxPooling2D)   (None, 112, 112, 64)      0         \n",
      "_________________________________________________________________\n",
      "block2_conv1 (Conv2D)        (None, 112, 112, 128)     73856     \n",
      "_________________________________________________________________\n",
      "block2_conv2 (Conv2D)        (None, 112, 112, 128)     147584    \n",
      "_________________________________________________________________\n",
      "block2_pool (MaxPooling2D)   (None, 56, 56, 128)       0         \n",
      "_________________________________________________________________\n",
      "block3_conv1 (Conv2D)        (None, 56, 56, 256)       295168    \n",
      "_________________________________________________________________\n",
      "block3_conv2 (Conv2D)        (None, 56, 56, 256)       590080    \n",
      "_________________________________________________________________\n",
      "block3_conv3 (Conv2D)        (None, 56, 56, 256)       590080    \n",
      "_________________________________________________________________\n",
      "block3_pool (MaxPooling2D)   (None, 28, 28, 256)       0         \n",
      "_________________________________________________________________\n",
      "block4_conv1 (Conv2D)        (None, 28, 28, 512)       1180160   \n",
      "_________________________________________________________________\n",
      "block4_conv2 (Conv2D)        (None, 28, 28, 512)       2359808   \n",
      "_________________________________________________________________\n",
      "block4_conv3 (Conv2D)        (None, 28, 28, 512)       2359808   \n",
      "_________________________________________________________________\n",
      "block4_pool (MaxPooling2D)   (None, 14, 14, 512)       0         \n",
      "_________________________________________________________________\n",
      "block5_conv1 (Conv2D)        (None, 14, 14, 512)       2359808   \n",
      "_________________________________________________________________\n",
      "block5_conv2 (Conv2D)        (None, 14, 14, 512)       2359808   \n",
      "_________________________________________________________________\n",
      "block5_conv3 (Conv2D)        (None, 14, 14, 512)       2359808   \n",
      "_________________________________________________________________\n",
      "block5_pool (MaxPooling2D)   (None, 7, 7, 512)         0         \n",
      "=================================================================\n",
      "Total params: 14,714,688\n",
      "Trainable params: 14,714,688\n",
      "Non-trainable params: 0\n",
      "_________________________________________________________________\n"
     ]
    }
   ],
   "source": [
    "# remove the output layer\n",
    "model = VGG16(include_top=False, input_shape=(224, 224, 3))\n",
    "model.summary()"
   ]
  },
  {
   "cell_type": "code",
   "execution_count": 4,
   "id": "c9b7cfb8",
   "metadata": {
    "execution": {
     "iopub.execute_input": "2025-09-26T11:15:44.369437Z",
     "iopub.status.busy": "2025-09-26T11:15:44.368904Z",
     "iopub.status.idle": "2025-09-26T11:15:44.388409Z",
     "shell.execute_reply": "2025-09-26T11:15:44.387246Z"
    },
    "papermill": {
     "duration": 0.039464,
     "end_time": "2025-09-26T11:15:44.390227",
     "exception": false,
     "start_time": "2025-09-26T11:15:44.350763",
     "status": "completed"
    },
    "tags": []
   },
   "outputs": [
    {
     "name": "stdout",
     "output_type": "stream",
     "text": [
      "Model: \"model\"\n",
      "_________________________________________________________________\n",
      "Layer (type)                 Output Shape              Param #   \n",
      "=================================================================\n",
      "input_2 (InputLayer)         [(None, 224, 224, 3)]     0         \n",
      "_________________________________________________________________\n",
      "block1_conv1 (Conv2D)        (None, 224, 224, 64)      1792      \n",
      "_________________________________________________________________\n",
      "block1_conv2 (Conv2D)        (None, 224, 224, 64)      36928     \n",
      "_________________________________________________________________\n",
      "block1_pool (MaxPooling2D)   (None, 112, 112, 64)      0         \n",
      "_________________________________________________________________\n",
      "block2_conv1 (Conv2D)        (None, 112, 112, 128)     73856     \n",
      "_________________________________________________________________\n",
      "block2_conv2 (Conv2D)        (None, 112, 112, 128)     147584    \n",
      "_________________________________________________________________\n",
      "block2_pool (MaxPooling2D)   (None, 56, 56, 128)       0         \n",
      "_________________________________________________________________\n",
      "block3_conv1 (Conv2D)        (None, 56, 56, 256)       295168    \n",
      "_________________________________________________________________\n",
      "block3_conv2 (Conv2D)        (None, 56, 56, 256)       590080    \n",
      "_________________________________________________________________\n",
      "block3_conv3 (Conv2D)        (None, 56, 56, 256)       590080    \n",
      "_________________________________________________________________\n",
      "block3_pool (MaxPooling2D)   (None, 28, 28, 256)       0         \n",
      "_________________________________________________________________\n",
      "block4_conv1 (Conv2D)        (None, 28, 28, 512)       1180160   \n",
      "_________________________________________________________________\n",
      "block4_conv2 (Conv2D)        (None, 28, 28, 512)       2359808   \n",
      "_________________________________________________________________\n",
      "block4_conv3 (Conv2D)        (None, 28, 28, 512)       2359808   \n",
      "_________________________________________________________________\n",
      "block4_pool (MaxPooling2D)   (None, 14, 14, 512)       0         \n",
      "_________________________________________________________________\n",
      "block5_conv1 (Conv2D)        (None, 14, 14, 512)       2359808   \n",
      "_________________________________________________________________\n",
      "block5_conv2 (Conv2D)        (None, 14, 14, 512)       2359808   \n",
      "_________________________________________________________________\n",
      "block5_conv3 (Conv2D)        (None, 14, 14, 512)       2359808   \n",
      "_________________________________________________________________\n",
      "block5_pool (MaxPooling2D)   (None, 7, 7, 512)         0         \n",
      "_________________________________________________________________\n",
      "flatten (Flatten)            (None, 25088)             0         \n",
      "_________________________________________________________________\n",
      "dense (Dense)                (None, 5)                 125445    \n",
      "=================================================================\n",
      "Total params: 14,840,133\n",
      "Trainable params: 14,840,133\n",
      "Non-trainable params: 0\n",
      "_________________________________________________________________\n"
     ]
    }
   ],
   "source": [
    "flat1 = Flatten()(model.layers[-1].output)\n",
    "#class1 = Dense(1024, activation='relu')(flat1)\n",
    "output = Dense(5, activation='softmax')(flat1)\n",
    "# define new model\n",
    "model = Model(inputs=model.inputs, outputs=output)\n",
    "model.summary()"
   ]
  },
  {
   "cell_type": "code",
   "execution_count": 5,
   "id": "2f7d7cb0",
   "metadata": {
    "execution": {
     "iopub.execute_input": "2025-09-26T11:15:44.426038Z",
     "iopub.status.busy": "2025-09-26T11:15:44.425769Z",
     "iopub.status.idle": "2025-09-26T11:15:44.430156Z",
     "shell.execute_reply": "2025-09-26T11:15:44.429462Z"
    },
    "papermill": {
     "duration": 0.02407,
     "end_time": "2025-09-26T11:15:44.431816",
     "exception": false,
     "start_time": "2025-09-26T11:15:44.407746",
     "status": "completed"
    },
    "tags": []
   },
   "outputs": [],
   "source": [
    "for layer in model.layers[:20]:\n",
    "    layer.trainable = False"
   ]
  },
  {
   "cell_type": "code",
   "execution_count": 6,
   "id": "f6ec729f",
   "metadata": {
    "execution": {
     "iopub.execute_input": "2025-09-26T11:15:44.466652Z",
     "iopub.status.busy": "2025-09-26T11:15:44.466387Z",
     "iopub.status.idle": "2025-09-26T11:15:44.472346Z",
     "shell.execute_reply": "2025-09-26T11:15:44.471511Z"
    },
    "papermill": {
     "duration": 0.025805,
     "end_time": "2025-09-26T11:15:44.474580",
     "exception": false,
     "start_time": "2025-09-26T11:15:44.448775",
     "status": "completed"
    },
    "tags": []
   },
   "outputs": [
    {
     "name": "stdout",
     "output_type": "stream",
     "text": [
      "Model: \"model\"\n",
      "_________________________________________________________________\n",
      "Layer (type)                 Output Shape              Param #   \n",
      "=================================================================\n",
      "input_2 (InputLayer)         [(None, 224, 224, 3)]     0         \n",
      "_________________________________________________________________\n",
      "block1_conv1 (Conv2D)        (None, 224, 224, 64)      1792      \n",
      "_________________________________________________________________\n",
      "block1_conv2 (Conv2D)        (None, 224, 224, 64)      36928     \n",
      "_________________________________________________________________\n",
      "block1_pool (MaxPooling2D)   (None, 112, 112, 64)      0         \n",
      "_________________________________________________________________\n",
      "block2_conv1 (Conv2D)        (None, 112, 112, 128)     73856     \n",
      "_________________________________________________________________\n",
      "block2_conv2 (Conv2D)        (None, 112, 112, 128)     147584    \n",
      "_________________________________________________________________\n",
      "block2_pool (MaxPooling2D)   (None, 56, 56, 128)       0         \n",
      "_________________________________________________________________\n",
      "block3_conv1 (Conv2D)        (None, 56, 56, 256)       295168    \n",
      "_________________________________________________________________\n",
      "block3_conv2 (Conv2D)        (None, 56, 56, 256)       590080    \n",
      "_________________________________________________________________\n",
      "block3_conv3 (Conv2D)        (None, 56, 56, 256)       590080    \n",
      "_________________________________________________________________\n",
      "block3_pool (MaxPooling2D)   (None, 28, 28, 256)       0         \n",
      "_________________________________________________________________\n",
      "block4_conv1 (Conv2D)        (None, 28, 28, 512)       1180160   \n",
      "_________________________________________________________________\n",
      "block4_conv2 (Conv2D)        (None, 28, 28, 512)       2359808   \n",
      "_________________________________________________________________\n",
      "block4_conv3 (Conv2D)        (None, 28, 28, 512)       2359808   \n",
      "_________________________________________________________________\n",
      "block4_pool (MaxPooling2D)   (None, 14, 14, 512)       0         \n",
      "_________________________________________________________________\n",
      "block5_conv1 (Conv2D)        (None, 14, 14, 512)       2359808   \n",
      "_________________________________________________________________\n",
      "block5_conv2 (Conv2D)        (None, 14, 14, 512)       2359808   \n",
      "_________________________________________________________________\n",
      "block5_conv3 (Conv2D)        (None, 14, 14, 512)       2359808   \n",
      "_________________________________________________________________\n",
      "block5_pool (MaxPooling2D)   (None, 7, 7, 512)         0         \n",
      "_________________________________________________________________\n",
      "flatten (Flatten)            (None, 25088)             0         \n",
      "_________________________________________________________________\n",
      "dense (Dense)                (None, 5)                 125445    \n",
      "=================================================================\n",
      "Total params: 14,840,133\n",
      "Trainable params: 125,445\n",
      "Non-trainable params: 14,714,688\n",
      "_________________________________________________________________\n"
     ]
    }
   ],
   "source": [
    "model.summary()"
   ]
  },
  {
   "cell_type": "markdown",
   "id": "2f81a1da",
   "metadata": {
    "papermill": {
     "duration": 0.016515,
     "end_time": "2025-09-26T11:15:44.508197",
     "exception": false,
     "start_time": "2025-09-26T11:15:44.491682",
     "status": "completed"
    },
    "tags": []
   },
   "source": [
    "# 3.Load flowers dataset"
   ]
  },
  {
   "cell_type": "code",
   "execution_count": 7,
   "id": "153d5c2e",
   "metadata": {
    "execution": {
     "iopub.execute_input": "2025-09-26T11:15:44.543482Z",
     "iopub.status.busy": "2025-09-26T11:15:44.543212Z",
     "iopub.status.idle": "2025-09-26T11:15:55.102515Z",
     "shell.execute_reply": "2025-09-26T11:15:55.101503Z"
    },
    "papermill": {
     "duration": 10.579559,
     "end_time": "2025-09-26T11:15:55.104710",
     "exception": false,
     "start_time": "2025-09-26T11:15:44.525151",
     "status": "completed"
    },
    "tags": []
   },
   "outputs": [
    {
     "name": "stdout",
     "output_type": "stream",
     "text": [
      "Downloading data from https://storage.googleapis.com/download.tensorflow.org/example_images/flower_photos.tgz\n",
      "228818944/228813984 [==============================] - 8s 0us/step\n",
      "228827136/228813984 [==============================] - 8s 0us/step\n"
     ]
    }
   ],
   "source": [
    "dataset_url = \"https://storage.googleapis.com/download.tensorflow.org/example_images/flower_photos.tgz\"\n",
    "data_dir = tf.keras.utils.get_file('flower_photos', origin=dataset_url,  cache_dir='.', untar=True)\n",
    "# cache_dir indicates where to download data. I specified . which means current directory\n",
    "# untar true will unzip it"
   ]
  },
  {
   "cell_type": "code",
   "execution_count": 8,
   "id": "787957e1",
   "metadata": {
    "execution": {
     "iopub.execute_input": "2025-09-26T11:15:55.148792Z",
     "iopub.status.busy": "2025-09-26T11:15:55.148474Z",
     "iopub.status.idle": "2025-09-26T11:15:55.155573Z",
     "shell.execute_reply": "2025-09-26T11:15:55.154769Z"
    },
    "papermill": {
     "duration": 0.030904,
     "end_time": "2025-09-26T11:15:55.157382",
     "exception": false,
     "start_time": "2025-09-26T11:15:55.126478",
     "status": "completed"
    },
    "tags": []
   },
   "outputs": [
    {
     "data": {
      "text/plain": [
       "'./datasets/flower_photos'"
      ]
     },
     "execution_count": 8,
     "metadata": {},
     "output_type": "execute_result"
    }
   ],
   "source": [
    "data_dir"
   ]
  },
  {
   "cell_type": "code",
   "execution_count": 9,
   "id": "7c0acafd",
   "metadata": {
    "execution": {
     "iopub.execute_input": "2025-09-26T11:15:55.200547Z",
     "iopub.status.busy": "2025-09-26T11:15:55.200313Z",
     "iopub.status.idle": "2025-09-26T11:15:55.205864Z",
     "shell.execute_reply": "2025-09-26T11:15:55.204982Z"
    },
    "papermill": {
     "duration": 0.02892,
     "end_time": "2025-09-26T11:15:55.207587",
     "exception": false,
     "start_time": "2025-09-26T11:15:55.178667",
     "status": "completed"
    },
    "tags": []
   },
   "outputs": [
    {
     "data": {
      "text/plain": [
       "PosixPath('datasets/flower_photos')"
      ]
     },
     "execution_count": 9,
     "metadata": {},
     "output_type": "execute_result"
    }
   ],
   "source": [
    "import pathlib\n",
    "data_dir = pathlib.Path(data_dir)\n",
    "data_dir"
   ]
  },
  {
   "cell_type": "markdown",
   "id": "8ad4bdfc",
   "metadata": {
    "papermill": {
     "duration": 0.020819,
     "end_time": "2025-09-26T11:15:55.249280",
     "exception": false,
     "start_time": "2025-09-26T11:15:55.228461",
     "status": "completed"
    },
    "tags": []
   },
   "source": [
    "# 4.Read flowers images from disk into numpy array using opencv"
   ]
  },
  {
   "cell_type": "code",
   "execution_count": 10,
   "id": "054df917",
   "metadata": {
    "execution": {
     "iopub.execute_input": "2025-09-26T11:15:55.292504Z",
     "iopub.status.busy": "2025-09-26T11:15:55.291985Z",
     "iopub.status.idle": "2025-09-26T11:15:55.307496Z",
     "shell.execute_reply": "2025-09-26T11:15:55.306596Z"
    },
    "papermill": {
     "duration": 0.039101,
     "end_time": "2025-09-26T11:15:55.309249",
     "exception": false,
     "start_time": "2025-09-26T11:15:55.270148",
     "status": "completed"
    },
    "tags": []
   },
   "outputs": [],
   "source": [
    "flowers_images_dict = {\n",
    "    'roses': list(data_dir.glob('roses/*')),\n",
    "    'daisy': list(data_dir.glob('daisy/*')),\n",
    "    'dandelion': list(data_dir.glob('dandelion/*')),\n",
    "    'sunflowers': list(data_dir.glob('sunflowers/*')),\n",
    "    'tulips': list(data_dir.glob('tulips/*')),\n",
    "}"
   ]
  },
  {
   "cell_type": "code",
   "execution_count": 11,
   "id": "31999cf5",
   "metadata": {
    "execution": {
     "iopub.execute_input": "2025-09-26T11:15:55.353097Z",
     "iopub.status.busy": "2025-09-26T11:15:55.352304Z",
     "iopub.status.idle": "2025-09-26T11:15:55.356378Z",
     "shell.execute_reply": "2025-09-26T11:15:55.355696Z"
    },
    "papermill": {
     "duration": 0.027713,
     "end_time": "2025-09-26T11:15:55.358105",
     "exception": false,
     "start_time": "2025-09-26T11:15:55.330392",
     "status": "completed"
    },
    "tags": []
   },
   "outputs": [],
   "source": [
    "num_of_flowers = 5\n",
    "flowers_labels_dict = {\n",
    "    'roses': 0,\n",
    "    'daisy': 1,\n",
    "    'dandelion': 2,\n",
    "    'sunflowers': 3,\n",
    "    'tulips': 4,\n",
    "}"
   ]
  },
  {
   "cell_type": "code",
   "execution_count": 12,
   "id": "4fa35a53",
   "metadata": {
    "execution": {
     "iopub.execute_input": "2025-09-26T11:15:55.401152Z",
     "iopub.status.busy": "2025-09-26T11:15:55.400898Z",
     "iopub.status.idle": "2025-09-26T11:16:03.800216Z",
     "shell.execute_reply": "2025-09-26T11:16:03.799381Z"
    },
    "papermill": {
     "duration": 8.423408,
     "end_time": "2025-09-26T11:16:03.802523",
     "exception": false,
     "start_time": "2025-09-26T11:15:55.379115",
     "status": "completed"
    },
    "tags": []
   },
   "outputs": [],
   "source": [
    "X, Y = [], []\n",
    "\n",
    "for flower_name, images in flowers_images_dict.items():\n",
    "    for image in images:\n",
    "        img = cv2.imread(str(image))\n",
    "        resized_img = cv2.resize(img,(224,224))\n",
    "        X.append(resized_img)\n",
    "        Y.append(flowers_labels_dict[flower_name])"
   ]
  },
  {
   "cell_type": "code",
   "execution_count": 13,
   "id": "6f65ed93",
   "metadata": {
    "execution": {
     "iopub.execute_input": "2025-09-26T11:16:03.858473Z",
     "iopub.status.busy": "2025-09-26T11:16:03.857582Z",
     "iopub.status.idle": "2025-09-26T11:16:04.033224Z",
     "shell.execute_reply": "2025-09-26T11:16:04.032399Z"
    },
    "papermill": {
     "duration": 0.202385,
     "end_time": "2025-09-26T11:16:04.035408",
     "exception": false,
     "start_time": "2025-09-26T11:16:03.833023",
     "status": "completed"
    },
    "tags": []
   },
   "outputs": [],
   "source": [
    "X = np.array(X)\n",
    "Y = np.array(Y)"
   ]
  },
  {
   "cell_type": "markdown",
   "id": "b861a4bc",
   "metadata": {
    "papermill": {
     "duration": 0.02219,
     "end_time": "2025-09-26T11:16:04.081028",
     "exception": false,
     "start_time": "2025-09-26T11:16:04.058838",
     "status": "completed"
    },
    "tags": []
   },
   "source": [
    "# 5.Train test split"
   ]
  },
  {
   "cell_type": "code",
   "execution_count": 14,
   "id": "86eedc81",
   "metadata": {
    "execution": {
     "iopub.execute_input": "2025-09-26T11:16:04.132277Z",
     "iopub.status.busy": "2025-09-26T11:16:04.131962Z",
     "iopub.status.idle": "2025-09-26T11:16:04.852149Z",
     "shell.execute_reply": "2025-09-26T11:16:04.851036Z"
    },
    "papermill": {
     "duration": 0.745406,
     "end_time": "2025-09-26T11:16:04.854474",
     "exception": false,
     "start_time": "2025-09-26T11:16:04.109068",
     "status": "completed"
    },
    "tags": []
   },
   "outputs": [],
   "source": [
    "from sklearn.model_selection import train_test_split\n",
    "X_train, X_test, Y_train, Y_test = train_test_split(X, Y, random_state=0)"
   ]
  },
  {
   "cell_type": "markdown",
   "id": "1e650fce",
   "metadata": {
    "papermill": {
     "duration": 0.021239,
     "end_time": "2025-09-26T11:16:04.897191",
     "exception": false,
     "start_time": "2025-09-26T11:16:04.875952",
     "status": "completed"
    },
    "tags": []
   },
   "source": [
    "# 6. Preprocessing: scale images"
   ]
  },
  {
   "cell_type": "code",
   "execution_count": 15,
   "id": "f8389548",
   "metadata": {
    "execution": {
     "iopub.execute_input": "2025-09-26T11:16:04.941702Z",
     "iopub.status.busy": "2025-09-26T11:16:04.940745Z",
     "iopub.status.idle": "2025-09-26T11:16:06.397581Z",
     "shell.execute_reply": "2025-09-26T11:16:06.396786Z"
    },
    "papermill": {
     "duration": 1.481127,
     "end_time": "2025-09-26T11:16:06.399867",
     "exception": false,
     "start_time": "2025-09-26T11:16:04.918740",
     "status": "completed"
    },
    "tags": []
   },
   "outputs": [],
   "source": [
    "X_train_scaled = X_train / 255\n",
    "X_test_scaled = X_test / 255"
   ]
  },
  {
   "cell_type": "markdown",
   "id": "d3666517",
   "metadata": {
    "papermill": {
     "duration": 0.021441,
     "end_time": "2025-09-26T11:16:06.443498",
     "exception": false,
     "start_time": "2025-09-26T11:16:06.422057",
     "status": "completed"
    },
    "tags": []
   },
   "source": [
    "# 7.Now take pre-trained model and retrain it using flowers images"
   ]
  },
  {
   "cell_type": "code",
   "execution_count": 16,
   "id": "df6b71f2",
   "metadata": {
    "execution": {
     "iopub.execute_input": "2025-09-26T11:16:06.487437Z",
     "iopub.status.busy": "2025-09-26T11:16:06.486856Z",
     "iopub.status.idle": "2025-09-26T11:16:06.493923Z",
     "shell.execute_reply": "2025-09-26T11:16:06.492702Z"
    },
    "papermill": {
     "duration": 0.03107,
     "end_time": "2025-09-26T11:16:06.495824",
     "exception": false,
     "start_time": "2025-09-26T11:16:06.464754",
     "status": "completed"
    },
    "tags": []
   },
   "outputs": [
    {
     "name": "stdout",
     "output_type": "stream",
     "text": [
      "Model: \"model\"\n",
      "_________________________________________________________________\n",
      "Layer (type)                 Output Shape              Param #   \n",
      "=================================================================\n",
      "input_2 (InputLayer)         [(None, 224, 224, 3)]     0         \n",
      "_________________________________________________________________\n",
      "block1_conv1 (Conv2D)        (None, 224, 224, 64)      1792      \n",
      "_________________________________________________________________\n",
      "block1_conv2 (Conv2D)        (None, 224, 224, 64)      36928     \n",
      "_________________________________________________________________\n",
      "block1_pool (MaxPooling2D)   (None, 112, 112, 64)      0         \n",
      "_________________________________________________________________\n",
      "block2_conv1 (Conv2D)        (None, 112, 112, 128)     73856     \n",
      "_________________________________________________________________\n",
      "block2_conv2 (Conv2D)        (None, 112, 112, 128)     147584    \n",
      "_________________________________________________________________\n",
      "block2_pool (MaxPooling2D)   (None, 56, 56, 128)       0         \n",
      "_________________________________________________________________\n",
      "block3_conv1 (Conv2D)        (None, 56, 56, 256)       295168    \n",
      "_________________________________________________________________\n",
      "block3_conv2 (Conv2D)        (None, 56, 56, 256)       590080    \n",
      "_________________________________________________________________\n",
      "block3_conv3 (Conv2D)        (None, 56, 56, 256)       590080    \n",
      "_________________________________________________________________\n",
      "block3_pool (MaxPooling2D)   (None, 28, 28, 256)       0         \n",
      "_________________________________________________________________\n",
      "block4_conv1 (Conv2D)        (None, 28, 28, 512)       1180160   \n",
      "_________________________________________________________________\n",
      "block4_conv2 (Conv2D)        (None, 28, 28, 512)       2359808   \n",
      "_________________________________________________________________\n",
      "block4_conv3 (Conv2D)        (None, 28, 28, 512)       2359808   \n",
      "_________________________________________________________________\n",
      "block4_pool (MaxPooling2D)   (None, 14, 14, 512)       0         \n",
      "_________________________________________________________________\n",
      "block5_conv1 (Conv2D)        (None, 14, 14, 512)       2359808   \n",
      "_________________________________________________________________\n",
      "block5_conv2 (Conv2D)        (None, 14, 14, 512)       2359808   \n",
      "_________________________________________________________________\n",
      "block5_conv3 (Conv2D)        (None, 14, 14, 512)       2359808   \n",
      "_________________________________________________________________\n",
      "block5_pool (MaxPooling2D)   (None, 7, 7, 512)         0         \n",
      "_________________________________________________________________\n",
      "flatten (Flatten)            (None, 25088)             0         \n",
      "_________________________________________________________________\n",
      "dense (Dense)                (None, 5)                 125445    \n",
      "=================================================================\n",
      "Total params: 14,840,133\n",
      "Trainable params: 125,445\n",
      "Non-trainable params: 14,714,688\n",
      "_________________________________________________________________\n"
     ]
    }
   ],
   "source": [
    "model.summary()"
   ]
  },
  {
   "cell_type": "code",
   "execution_count": 17,
   "id": "655ae3b8",
   "metadata": {
    "execution": {
     "iopub.execute_input": "2025-09-26T11:16:06.540107Z",
     "iopub.status.busy": "2025-09-26T11:16:06.539856Z",
     "iopub.status.idle": "2025-09-26T11:16:51.208463Z",
     "shell.execute_reply": "2025-09-26T11:16:51.207703Z"
    },
    "papermill": {
     "duration": 44.693178,
     "end_time": "2025-09-26T11:16:51.210552",
     "exception": false,
     "start_time": "2025-09-26T11:16:06.517374",
     "status": "completed"
    },
    "tags": []
   },
   "outputs": [
    {
     "name": "stdout",
     "output_type": "stream",
     "text": [
      "Epoch 1/5\n",
      "69/69 [==============================] - 20s 140ms/step - loss: 0.9442 - accuracy: 0.6756 - val_loss: 0.5832 - val_accuracy: 0.7804\n",
      "Epoch 2/5\n",
      "69/69 [==============================] - 5s 79ms/step - loss: 0.3077 - accuracy: 0.9041 - val_loss: 0.4992 - val_accuracy: 0.8167\n",
      "Epoch 3/5\n",
      "69/69 [==============================] - 5s 78ms/step - loss: 0.1533 - accuracy: 0.9591 - val_loss: 0.4952 - val_accuracy: 0.8185\n",
      "Epoch 4/5\n",
      "69/69 [==============================] - 5s 79ms/step - loss: 0.0856 - accuracy: 0.9905 - val_loss: 0.5027 - val_accuracy: 0.8149\n",
      "Epoch 5/5\n",
      "69/69 [==============================] - 5s 79ms/step - loss: 0.0522 - accuracy: 0.9968 - val_loss: 0.4580 - val_accuracy: 0.8385\n"
     ]
    }
   ],
   "source": [
    "model.compile(\n",
    "  optimizer=\"adam\",\n",
    "  loss=tf.keras.losses.SparseCategoricalCrossentropy(),\n",
    "  metrics=['accuracy'])\n",
    "\n",
    "history=model.fit(X_train_scaled, Y_train, validation_split=0.2,epochs=5)"
   ]
  },
  {
   "cell_type": "code",
   "execution_count": 18,
   "id": "34702781",
   "metadata": {
    "execution": {
     "iopub.execute_input": "2025-09-26T11:16:51.283681Z",
     "iopub.status.busy": "2025-09-26T11:16:51.282953Z",
     "iopub.status.idle": "2025-09-26T11:16:56.636045Z",
     "shell.execute_reply": "2025-09-26T11:16:56.635079Z"
    },
    "papermill": {
     "duration": 5.391292,
     "end_time": "2025-09-26T11:16:56.637940",
     "exception": false,
     "start_time": "2025-09-26T11:16:51.246648",
     "status": "completed"
    },
    "tags": []
   },
   "outputs": [
    {
     "name": "stdout",
     "output_type": "stream",
     "text": [
      "29/29 [==============================] - 4s 137ms/step - loss: 0.4031 - accuracy: 0.8638\n"
     ]
    },
    {
     "data": {
      "text/plain": [
       "[0.4031243324279785, 0.8638344407081604]"
      ]
     },
     "execution_count": 18,
     "metadata": {},
     "output_type": "execute_result"
    }
   ],
   "source": [
    "model.evaluate(X_test_scaled,Y_test)"
   ]
  },
  {
   "cell_type": "markdown",
   "id": "084555ca",
   "metadata": {
    "papermill": {
     "duration": 0.037168,
     "end_time": "2025-09-26T11:16:56.712508",
     "exception": false,
     "start_time": "2025-09-26T11:16:56.675340",
     "status": "completed"
    },
    "tags": []
   },
   "source": [
    "# 8.Evaluate the model"
   ]
  },
  {
   "cell_type": "code",
   "execution_count": 19,
   "id": "7f7ec825",
   "metadata": {
    "execution": {
     "iopub.execute_input": "2025-09-26T11:16:56.787297Z",
     "iopub.status.busy": "2025-09-26T11:16:56.786947Z",
     "iopub.status.idle": "2025-09-26T11:16:57.040093Z",
     "shell.execute_reply": "2025-09-26T11:16:57.034674Z"
    },
    "papermill": {
     "duration": 0.29303,
     "end_time": "2025-09-26T11:16:57.041959",
     "exception": false,
     "start_time": "2025-09-26T11:16:56.748929",
     "status": "completed"
    },
    "tags": []
   },
   "outputs": [
    {
     "data": {
      "image/png": "[encoded data removed]",
      "text/plain": [
       "<Figure size 432x288 with 1 Axes>"
      ]
     },
     "metadata": {
      "needs_background": "light"
     },
     "output_type": "display_data"
    }
   ],
   "source": [
    "plt.grid()\n",
    "plt.plot(history.history['accuracy'], label='accuracy')\n",
    "plt.plot(history.history['loss'], label = 'loss')\n",
    "plt.plot(history.history['val_accuracy'], label='val_accuracy')\n",
    "plt.plot(history.history['val_loss'], label = 'val_loss')\n",
    "plt.xlabel('Epoch')\n",
    "plt.ylabel('Accuracy')\n",
    "plt.ylim([-0.4, 1.2])\n",
    "plt.legend(loc='lower right')\n",
    "plt.show()"
   ]
  },
  {
   "cell_type": "markdown",
   "id": "06f1455e",
   "metadata": {
    "papermill": {
     "duration": 0.036536,
     "end_time": "2025-09-26T11:16:57.116513",
     "exception": false,
     "start_time": "2025-09-26T11:16:57.079977",
     "status": "completed"
    },
    "tags": []
   },
   "source": [
    "# 9. Summary\n",
    "1. https://www.kaggle.com/code/alexreddy/data-augmentation-in-cnn  train accuracy: 0.88, \n",
    "test accuracy:0.73, with Epochs 30\n",
    "2. In this model(Transfer Learning using VGG-16) - train accuracy: 0.99, test accuracy:0.83, with 5 Epochs - (16% difference between train and test accuracy) overfitting\n"
   ]
  }
 ],
 "metadata": {
  "kaggle": {
   "accelerator": "gpu",
   "dataSources": [
    {
     "datasetId": 2373726,
     "sourceId": 4001501,
     "sourceType": "datasetVersion"
    },
    {
     "datasetId": 2373733,
     "sourceId": 4001519,
     "sourceType": "datasetVersion"
    }
   ],
   "dockerImageVersionId": 30214,
   "isGpuEnabled": true,
   "isInternetEnabled": true,
   "language": "python",
   "sourceType": "notebook"
  },
  "kernelspec": {
   "display_name": "Python 3",
   "language": "python",
   "name": "python3"
  },
  "language_info": {
   "codemirror_mode": {
    "name": "ipython",
    "version": 3
   },
   "file_extension": ".py",
   "mimetype": "text/x-python",
   "name": "python",
   "nbconvert_exporter": "python",
   "pygments_lexer": "ipython3",
   "version": "3.7.12"
  },
  "papermill": {
   "default_parameters": {},
   "duration": 115.37829,
   "end_time": "2025-09-26T11:17:00.465700",
   "environment_variables": {},
   "exception": null,
   "input_path": "__notebook__.ipynb",
   "output_path": "__notebook__.ipynb",
   "parameters": {},
   "start_time": "2025-09-26T11:15:05.087410",
   "version": "2.3.4"
  }
 },
 "nbformat": 4,
 "nbformat_minor": 5
}
